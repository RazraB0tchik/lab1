{
 "cells": [
  {
   "cell_type": "markdown",
   "source": [
    "### Выведем информацию о загруженном датасете ###"
   ],
   "metadata": {
    "collapsed": false
   }
  },
  {
   "cell_type": "code",
   "execution_count": 76,
   "outputs": [],
   "source": [
    "import pandas as pd\n",
    "import numpy as np\n",
    "my_df = pd.read_csv('/home/makar/Документы/dataset/measures_v2.csv')"
   ],
   "metadata": {
    "collapsed": false
   }
  },
  {
   "cell_type": "code",
   "execution_count": 77,
   "outputs": [
    {
     "data": {
      "text/plain": "<bound method DataFrame.info of               u_q    coolant  stator_winding       u_d  stator_tooth  \\\n0       -0.450682  18.805172       19.086670 -0.350055     18.293219   \n1       -0.325737  18.818571       19.092390 -0.305803     18.294807   \n2       -0.440864  18.828770       19.089380 -0.372503     18.294094   \n3       -0.327026  18.835567       19.083031 -0.316199     18.292542   \n4       -0.471150  18.857033       19.082525 -0.332272     18.291428   \n...           ...        ...             ...       ...           ...   \n1330811 -2.152128  30.721298       45.274497  0.791801     41.934347   \n1330812 -2.258684  30.721306       45.239017  0.778900     41.868923   \n1330813 -2.130312  30.721312       45.211576  0.804914     41.804819   \n1330814 -2.268498  30.721316       45.193508  0.763091     41.762220   \n1330815 -2.100158  30.721319       45.132307  0.807309     41.734763   \n\n         motor_speed       i_d       i_q         pm  stator_yoke    ambient  \\\n0           0.002866  0.004419  0.000328  24.554214    18.316547  19.850691   \n1           0.000257  0.000606 -0.000785  24.538078    18.314955  19.850672   \n2           0.002355  0.001290  0.000386  24.544693    18.326307  19.850657   \n3           0.006105  0.000026  0.002046  24.554018    18.330833  19.850647   \n4           0.003133 -0.064317  0.037184  24.565397    18.326662  19.850639   \n...              ...       ...       ...        ...          ...        ...   \n1330811     0.000380 -2.000169  1.097528  62.147780    38.653720  23.989078   \n1330812     0.002985 -2.000499  1.097569  62.142646    38.656328  23.970700   \n1330813     0.002301 -1.999268  1.098765  62.138387    38.650923  23.977234   \n1330814     0.005662 -2.000999  1.095696  62.133422    38.655686  24.001421   \n1330815     0.004395 -2.000792  1.096487  62.131429    38.660370  24.027522   \n\n               torque  profile_id  \n0        1.871008e-01          17  \n1        2.454175e-01          17  \n2        1.766153e-01          17  \n3        2.383027e-01          17  \n4        2.081967e-01          17  \n...               ...         ...  \n1330811 -8.116730e-60          71  \n1330812 -5.815891e-60          71  \n1330813 -4.167268e-60          71  \n1330814 -2.985978e-60          71  \n1330815 -2.139547e-60          71  \n\n[1330816 rows x 13 columns]>"
     },
     "execution_count": 77,
     "metadata": {},
     "output_type": "execute_result"
    }
   ],
   "source": [
    "my_df.info"
   ],
   "metadata": {
    "collapsed": false
   }
  },
  {
   "cell_type": "code",
   "execution_count": 78,
   "outputs": [
    {
     "data": {
      "text/plain": "u_q               float64\ncoolant           float64\nstator_winding    float64\nu_d               float64\nstator_tooth      float64\nmotor_speed       float64\ni_d               float64\ni_q               float64\npm                float64\nstator_yoke       float64\nambient           float64\ntorque            float64\nprofile_id          int64\ndtype: object"
     },
     "execution_count": 78,
     "metadata": {},
     "output_type": "execute_result"
    }
   ],
   "source": [
    "my_df.dtypes"
   ],
   "metadata": {
    "collapsed": false
   }
  },
  {
   "cell_type": "markdown",
   "source": [
    "1. u_q : Измерение q-компоненты напряжения в dq-координатах (в В) - **Непрерывные данные**\n",
    "2. coolant : Температура охлаждающей жидкости (в °C) - **Непрерывные данные**\n",
    "3. stator_winding : Температура обмотки статора (в °C), измеренная термопарами - **Непрерывные данные**\n",
    "4. u_d : Измерение d-составляющей напряжения в dq-координатах - **Дискретные данные**\n",
    "5. stator_tooth : Температура зубца статора (в °C), измеренная термопарами  - **Непрерывные данные**\n",
    "6. motor_speed : Скорость двигателя (в об/мин) - **Непрерывные данные**\n",
    "7. i_d : ПТекущее измерение d-компоненты в dq-координатах - **Дискретные данные**\n",
    "8. i_q : Текущее измерение q-компоненты в dq-координатах - **Дискретные данные**\n",
    "9. pm : Температура постоянного магнита (в °C), измеренная термопарами и переданная по  - **Непрерывные данные**\n",
    "10. stator_yoke : Температура ярма статора (в °C), измеренная термопарами - **Непрерывные данные**"
   ],
   "metadata": {
    "collapsed": false
   }
  },
  {
   "cell_type": "markdown",
   "source": [
    "### Датасет не сотержит столбцов с данными категориального типа, добавим их. ###\n",
    "\n",
    "#### 1.Добавим колонку с производителями электродвигателя: 1-Tesla; 2-Nio; 3-Volvo; 4-Faw; 5-SAIC\n",
    "####"
   ],
   "metadata": {
    "collapsed": false
   }
  },
  {
   "cell_type": "code",
   "execution_count": 79,
   "outputs": [],
   "source": [
    "my_df[\"manufacturer\"] = np.random.randint(1,5,size=my_df[\"pm\"].size)"
   ],
   "metadata": {
    "collapsed": false
   }
  },
  {
   "cell_type": "code",
   "execution_count": 80,
   "outputs": [
    {
     "data": {
      "text/plain": "              u_q    coolant  stator_winding       u_d  stator_tooth  \\\n0       -0.450682  18.805172       19.086670 -0.350055     18.293219   \n1       -0.325737  18.818571       19.092390 -0.305803     18.294807   \n2       -0.440864  18.828770       19.089380 -0.372503     18.294094   \n3       -0.327026  18.835567       19.083031 -0.316199     18.292542   \n4       -0.471150  18.857033       19.082525 -0.332272     18.291428   \n...           ...        ...             ...       ...           ...   \n1330811 -2.152128  30.721298       45.274497  0.791801     41.934347   \n1330812 -2.258684  30.721306       45.239017  0.778900     41.868923   \n1330813 -2.130312  30.721312       45.211576  0.804914     41.804819   \n1330814 -2.268498  30.721316       45.193508  0.763091     41.762220   \n1330815 -2.100158  30.721319       45.132307  0.807309     41.734763   \n\n         motor_speed       i_d       i_q         pm  stator_yoke    ambient  \\\n0           0.002866  0.004419  0.000328  24.554214    18.316547  19.850691   \n1           0.000257  0.000606 -0.000785  24.538078    18.314955  19.850672   \n2           0.002355  0.001290  0.000386  24.544693    18.326307  19.850657   \n3           0.006105  0.000026  0.002046  24.554018    18.330833  19.850647   \n4           0.003133 -0.064317  0.037184  24.565397    18.326662  19.850639   \n...              ...       ...       ...        ...          ...        ...   \n1330811     0.000380 -2.000169  1.097528  62.147780    38.653720  23.989078   \n1330812     0.002985 -2.000499  1.097569  62.142646    38.656328  23.970700   \n1330813     0.002301 -1.999268  1.098765  62.138387    38.650923  23.977234   \n1330814     0.005662 -2.000999  1.095696  62.133422    38.655686  24.001421   \n1330815     0.004395 -2.000792  1.096487  62.131429    38.660370  24.027522   \n\n               torque  profile_id  manufacturer  \n0        1.871008e-01          17             4  \n1        2.454175e-01          17             1  \n2        1.766153e-01          17             1  \n3        2.383027e-01          17             4  \n4        2.081967e-01          17             1  \n...               ...         ...           ...  \n1330811 -8.116730e-60          71             2  \n1330812 -5.815891e-60          71             4  \n1330813 -4.167268e-60          71             2  \n1330814 -2.985978e-60          71             1  \n1330815 -2.139547e-60          71             1  \n\n[1330816 rows x 14 columns]",
      "text/html": "<div>\n<style scoped>\n    .dataframe tbody tr th:only-of-type {\n        vertical-align: middle;\n    }\n\n    .dataframe tbody tr th {\n        vertical-align: top;\n    }\n\n    .dataframe thead th {\n        text-align: right;\n    }\n</style>\n<table border=\"1\" class=\"dataframe\">\n  <thead>\n    <tr style=\"text-align: right;\">\n      <th></th>\n      <th>u_q</th>\n      <th>coolant</th>\n      <th>stator_winding</th>\n      <th>u_d</th>\n      <th>stator_tooth</th>\n      <th>motor_speed</th>\n      <th>i_d</th>\n      <th>i_q</th>\n      <th>pm</th>\n      <th>stator_yoke</th>\n      <th>ambient</th>\n      <th>torque</th>\n      <th>profile_id</th>\n      <th>manufacturer</th>\n    </tr>\n  </thead>\n  <tbody>\n    <tr>\n      <th>0</th>\n      <td>-0.450682</td>\n      <td>18.805172</td>\n      <td>19.086670</td>\n      <td>-0.350055</td>\n      <td>18.293219</td>\n      <td>0.002866</td>\n      <td>0.004419</td>\n      <td>0.000328</td>\n      <td>24.554214</td>\n      <td>18.316547</td>\n      <td>19.850691</td>\n      <td>1.871008e-01</td>\n      <td>17</td>\n      <td>4</td>\n    </tr>\n    <tr>\n      <th>1</th>\n      <td>-0.325737</td>\n      <td>18.818571</td>\n      <td>19.092390</td>\n      <td>-0.305803</td>\n      <td>18.294807</td>\n      <td>0.000257</td>\n      <td>0.000606</td>\n      <td>-0.000785</td>\n      <td>24.538078</td>\n      <td>18.314955</td>\n      <td>19.850672</td>\n      <td>2.454175e-01</td>\n      <td>17</td>\n      <td>1</td>\n    </tr>\n    <tr>\n      <th>2</th>\n      <td>-0.440864</td>\n      <td>18.828770</td>\n      <td>19.089380</td>\n      <td>-0.372503</td>\n      <td>18.294094</td>\n      <td>0.002355</td>\n      <td>0.001290</td>\n      <td>0.000386</td>\n      <td>24.544693</td>\n      <td>18.326307</td>\n      <td>19.850657</td>\n      <td>1.766153e-01</td>\n      <td>17</td>\n      <td>1</td>\n    </tr>\n    <tr>\n      <th>3</th>\n      <td>-0.327026</td>\n      <td>18.835567</td>\n      <td>19.083031</td>\n      <td>-0.316199</td>\n      <td>18.292542</td>\n      <td>0.006105</td>\n      <td>0.000026</td>\n      <td>0.002046</td>\n      <td>24.554018</td>\n      <td>18.330833</td>\n      <td>19.850647</td>\n      <td>2.383027e-01</td>\n      <td>17</td>\n      <td>4</td>\n    </tr>\n    <tr>\n      <th>4</th>\n      <td>-0.471150</td>\n      <td>18.857033</td>\n      <td>19.082525</td>\n      <td>-0.332272</td>\n      <td>18.291428</td>\n      <td>0.003133</td>\n      <td>-0.064317</td>\n      <td>0.037184</td>\n      <td>24.565397</td>\n      <td>18.326662</td>\n      <td>19.850639</td>\n      <td>2.081967e-01</td>\n      <td>17</td>\n      <td>1</td>\n    </tr>\n    <tr>\n      <th>...</th>\n      <td>...</td>\n      <td>...</td>\n      <td>...</td>\n      <td>...</td>\n      <td>...</td>\n      <td>...</td>\n      <td>...</td>\n      <td>...</td>\n      <td>...</td>\n      <td>...</td>\n      <td>...</td>\n      <td>...</td>\n      <td>...</td>\n      <td>...</td>\n    </tr>\n    <tr>\n      <th>1330811</th>\n      <td>-2.152128</td>\n      <td>30.721298</td>\n      <td>45.274497</td>\n      <td>0.791801</td>\n      <td>41.934347</td>\n      <td>0.000380</td>\n      <td>-2.000169</td>\n      <td>1.097528</td>\n      <td>62.147780</td>\n      <td>38.653720</td>\n      <td>23.989078</td>\n      <td>-8.116730e-60</td>\n      <td>71</td>\n      <td>2</td>\n    </tr>\n    <tr>\n      <th>1330812</th>\n      <td>-2.258684</td>\n      <td>30.721306</td>\n      <td>45.239017</td>\n      <td>0.778900</td>\n      <td>41.868923</td>\n      <td>0.002985</td>\n      <td>-2.000499</td>\n      <td>1.097569</td>\n      <td>62.142646</td>\n      <td>38.656328</td>\n      <td>23.970700</td>\n      <td>-5.815891e-60</td>\n      <td>71</td>\n      <td>4</td>\n    </tr>\n    <tr>\n      <th>1330813</th>\n      <td>-2.130312</td>\n      <td>30.721312</td>\n      <td>45.211576</td>\n      <td>0.804914</td>\n      <td>41.804819</td>\n      <td>0.002301</td>\n      <td>-1.999268</td>\n      <td>1.098765</td>\n      <td>62.138387</td>\n      <td>38.650923</td>\n      <td>23.977234</td>\n      <td>-4.167268e-60</td>\n      <td>71</td>\n      <td>2</td>\n    </tr>\n    <tr>\n      <th>1330814</th>\n      <td>-2.268498</td>\n      <td>30.721316</td>\n      <td>45.193508</td>\n      <td>0.763091</td>\n      <td>41.762220</td>\n      <td>0.005662</td>\n      <td>-2.000999</td>\n      <td>1.095696</td>\n      <td>62.133422</td>\n      <td>38.655686</td>\n      <td>24.001421</td>\n      <td>-2.985978e-60</td>\n      <td>71</td>\n      <td>1</td>\n    </tr>\n    <tr>\n      <th>1330815</th>\n      <td>-2.100158</td>\n      <td>30.721319</td>\n      <td>45.132307</td>\n      <td>0.807309</td>\n      <td>41.734763</td>\n      <td>0.004395</td>\n      <td>-2.000792</td>\n      <td>1.096487</td>\n      <td>62.131429</td>\n      <td>38.660370</td>\n      <td>24.027522</td>\n      <td>-2.139547e-60</td>\n      <td>71</td>\n      <td>1</td>\n    </tr>\n  </tbody>\n</table>\n<p>1330816 rows × 14 columns</p>\n</div>"
     },
     "execution_count": 80,
     "metadata": {},
     "output_type": "execute_result"
    }
   ],
   "source": [
    "my_df"
   ],
   "metadata": {
    "collapsed": false
   }
  },
  {
   "cell_type": "markdown",
   "source": [
    "#### 2. Добавим колонку с категориальным обозначением температуры охлаждающей жидкости ####"
   ],
   "metadata": {
    "collapsed": false
   }
  },
  {
   "cell_type": "code",
   "execution_count": 81,
   "outputs": [],
   "source": [
    "def f(row):\n",
    " if row['coolant'] < 30:\n",
    "    val = 'Low'\n",
    " elif (row['coolant'] >30) & (row['coolant'] < 65):\n",
    "    val = 'Middle'\n",
    " else :\n",
    "    val = 'Highty'\n",
    " return val\n",
    "\n",
    "my_df['categ_coolant'] = my_df.apply (f, axis=1)"
   ],
   "metadata": {
    "collapsed": false
   }
  },
  {
   "cell_type": "code",
   "execution_count": 82,
   "outputs": [
    {
     "data": {
      "text/plain": "              u_q    coolant  stator_winding       u_d  stator_tooth  \\\n0       -0.450682  18.805172       19.086670 -0.350055     18.293219   \n1       -0.325737  18.818571       19.092390 -0.305803     18.294807   \n2       -0.440864  18.828770       19.089380 -0.372503     18.294094   \n3       -0.327026  18.835567       19.083031 -0.316199     18.292542   \n4       -0.471150  18.857033       19.082525 -0.332272     18.291428   \n...           ...        ...             ...       ...           ...   \n1330811 -2.152128  30.721298       45.274497  0.791801     41.934347   \n1330812 -2.258684  30.721306       45.239017  0.778900     41.868923   \n1330813 -2.130312  30.721312       45.211576  0.804914     41.804819   \n1330814 -2.268498  30.721316       45.193508  0.763091     41.762220   \n1330815 -2.100158  30.721319       45.132307  0.807309     41.734763   \n\n         motor_speed       i_d       i_q         pm  stator_yoke    ambient  \\\n0           0.002866  0.004419  0.000328  24.554214    18.316547  19.850691   \n1           0.000257  0.000606 -0.000785  24.538078    18.314955  19.850672   \n2           0.002355  0.001290  0.000386  24.544693    18.326307  19.850657   \n3           0.006105  0.000026  0.002046  24.554018    18.330833  19.850647   \n4           0.003133 -0.064317  0.037184  24.565397    18.326662  19.850639   \n...              ...       ...       ...        ...          ...        ...   \n1330811     0.000380 -2.000169  1.097528  62.147780    38.653720  23.989078   \n1330812     0.002985 -2.000499  1.097569  62.142646    38.656328  23.970700   \n1330813     0.002301 -1.999268  1.098765  62.138387    38.650923  23.977234   \n1330814     0.005662 -2.000999  1.095696  62.133422    38.655686  24.001421   \n1330815     0.004395 -2.000792  1.096487  62.131429    38.660370  24.027522   \n\n               torque  profile_id  manufacturer categ_coolant  \n0        1.871008e-01          17             4           Low  \n1        2.454175e-01          17             1           Low  \n2        1.766153e-01          17             1           Low  \n3        2.383027e-01          17             4           Low  \n4        2.081967e-01          17             1           Low  \n...               ...         ...           ...           ...  \n1330811 -8.116730e-60          71             2        Middle  \n1330812 -5.815891e-60          71             4        Middle  \n1330813 -4.167268e-60          71             2        Middle  \n1330814 -2.985978e-60          71             1        Middle  \n1330815 -2.139547e-60          71             1        Middle  \n\n[1330816 rows x 15 columns]",
      "text/html": "<div>\n<style scoped>\n    .dataframe tbody tr th:only-of-type {\n        vertical-align: middle;\n    }\n\n    .dataframe tbody tr th {\n        vertical-align: top;\n    }\n\n    .dataframe thead th {\n        text-align: right;\n    }\n</style>\n<table border=\"1\" class=\"dataframe\">\n  <thead>\n    <tr style=\"text-align: right;\">\n      <th></th>\n      <th>u_q</th>\n      <th>coolant</th>\n      <th>stator_winding</th>\n      <th>u_d</th>\n      <th>stator_tooth</th>\n      <th>motor_speed</th>\n      <th>i_d</th>\n      <th>i_q</th>\n      <th>pm</th>\n      <th>stator_yoke</th>\n      <th>ambient</th>\n      <th>torque</th>\n      <th>profile_id</th>\n      <th>manufacturer</th>\n      <th>categ_coolant</th>\n    </tr>\n  </thead>\n  <tbody>\n    <tr>\n      <th>0</th>\n      <td>-0.450682</td>\n      <td>18.805172</td>\n      <td>19.086670</td>\n      <td>-0.350055</td>\n      <td>18.293219</td>\n      <td>0.002866</td>\n      <td>0.004419</td>\n      <td>0.000328</td>\n      <td>24.554214</td>\n      <td>18.316547</td>\n      <td>19.850691</td>\n      <td>1.871008e-01</td>\n      <td>17</td>\n      <td>4</td>\n      <td>Low</td>\n    </tr>\n    <tr>\n      <th>1</th>\n      <td>-0.325737</td>\n      <td>18.818571</td>\n      <td>19.092390</td>\n      <td>-0.305803</td>\n      <td>18.294807</td>\n      <td>0.000257</td>\n      <td>0.000606</td>\n      <td>-0.000785</td>\n      <td>24.538078</td>\n      <td>18.314955</td>\n      <td>19.850672</td>\n      <td>2.454175e-01</td>\n      <td>17</td>\n      <td>1</td>\n      <td>Low</td>\n    </tr>\n    <tr>\n      <th>2</th>\n      <td>-0.440864</td>\n      <td>18.828770</td>\n      <td>19.089380</td>\n      <td>-0.372503</td>\n      <td>18.294094</td>\n      <td>0.002355</td>\n      <td>0.001290</td>\n      <td>0.000386</td>\n      <td>24.544693</td>\n      <td>18.326307</td>\n      <td>19.850657</td>\n      <td>1.766153e-01</td>\n      <td>17</td>\n      <td>1</td>\n      <td>Low</td>\n    </tr>\n    <tr>\n      <th>3</th>\n      <td>-0.327026</td>\n      <td>18.835567</td>\n      <td>19.083031</td>\n      <td>-0.316199</td>\n      <td>18.292542</td>\n      <td>0.006105</td>\n      <td>0.000026</td>\n      <td>0.002046</td>\n      <td>24.554018</td>\n      <td>18.330833</td>\n      <td>19.850647</td>\n      <td>2.383027e-01</td>\n      <td>17</td>\n      <td>4</td>\n      <td>Low</td>\n    </tr>\n    <tr>\n      <th>4</th>\n      <td>-0.471150</td>\n      <td>18.857033</td>\n      <td>19.082525</td>\n      <td>-0.332272</td>\n      <td>18.291428</td>\n      <td>0.003133</td>\n      <td>-0.064317</td>\n      <td>0.037184</td>\n      <td>24.565397</td>\n      <td>18.326662</td>\n      <td>19.850639</td>\n      <td>2.081967e-01</td>\n      <td>17</td>\n      <td>1</td>\n      <td>Low</td>\n    </tr>\n    <tr>\n      <th>...</th>\n      <td>...</td>\n      <td>...</td>\n      <td>...</td>\n      <td>...</td>\n      <td>...</td>\n      <td>...</td>\n      <td>...</td>\n      <td>...</td>\n      <td>...</td>\n      <td>...</td>\n      <td>...</td>\n      <td>...</td>\n      <td>...</td>\n      <td>...</td>\n      <td>...</td>\n    </tr>\n    <tr>\n      <th>1330811</th>\n      <td>-2.152128</td>\n      <td>30.721298</td>\n      <td>45.274497</td>\n      <td>0.791801</td>\n      <td>41.934347</td>\n      <td>0.000380</td>\n      <td>-2.000169</td>\n      <td>1.097528</td>\n      <td>62.147780</td>\n      <td>38.653720</td>\n      <td>23.989078</td>\n      <td>-8.116730e-60</td>\n      <td>71</td>\n      <td>2</td>\n      <td>Middle</td>\n    </tr>\n    <tr>\n      <th>1330812</th>\n      <td>-2.258684</td>\n      <td>30.721306</td>\n      <td>45.239017</td>\n      <td>0.778900</td>\n      <td>41.868923</td>\n      <td>0.002985</td>\n      <td>-2.000499</td>\n      <td>1.097569</td>\n      <td>62.142646</td>\n      <td>38.656328</td>\n      <td>23.970700</td>\n      <td>-5.815891e-60</td>\n      <td>71</td>\n      <td>4</td>\n      <td>Middle</td>\n    </tr>\n    <tr>\n      <th>1330813</th>\n      <td>-2.130312</td>\n      <td>30.721312</td>\n      <td>45.211576</td>\n      <td>0.804914</td>\n      <td>41.804819</td>\n      <td>0.002301</td>\n      <td>-1.999268</td>\n      <td>1.098765</td>\n      <td>62.138387</td>\n      <td>38.650923</td>\n      <td>23.977234</td>\n      <td>-4.167268e-60</td>\n      <td>71</td>\n      <td>2</td>\n      <td>Middle</td>\n    </tr>\n    <tr>\n      <th>1330814</th>\n      <td>-2.268498</td>\n      <td>30.721316</td>\n      <td>45.193508</td>\n      <td>0.763091</td>\n      <td>41.762220</td>\n      <td>0.005662</td>\n      <td>-2.000999</td>\n      <td>1.095696</td>\n      <td>62.133422</td>\n      <td>38.655686</td>\n      <td>24.001421</td>\n      <td>-2.985978e-60</td>\n      <td>71</td>\n      <td>1</td>\n      <td>Middle</td>\n    </tr>\n    <tr>\n      <th>1330815</th>\n      <td>-2.100158</td>\n      <td>30.721319</td>\n      <td>45.132307</td>\n      <td>0.807309</td>\n      <td>41.734763</td>\n      <td>0.004395</td>\n      <td>-2.000792</td>\n      <td>1.096487</td>\n      <td>62.131429</td>\n      <td>38.660370</td>\n      <td>24.027522</td>\n      <td>-2.139547e-60</td>\n      <td>71</td>\n      <td>1</td>\n      <td>Middle</td>\n    </tr>\n  </tbody>\n</table>\n<p>1330816 rows × 15 columns</p>\n</div>"
     },
     "execution_count": 82,
     "metadata": {},
     "output_type": "execute_result"
    }
   ],
   "source": [
    "my_df"
   ],
   "metadata": {
    "collapsed": false
   }
  },
  {
   "cell_type": "markdown",
   "source": [
    "#### 3. Добавим колонку с категориальным обозначением статорного напряжения в двигателе. ####"
   ],
   "metadata": {
    "collapsed": false
   }
  },
  {
   "cell_type": "code",
   "execution_count": 83,
   "outputs": [
    {
     "data": {
      "text/plain": "              u_q    coolant  stator_winding       u_d  stator_tooth  \\\n0       -0.450682  18.805172       19.086670 -0.350055     18.293219   \n1       -0.325737  18.818571       19.092390 -0.305803     18.294807   \n2       -0.440864  18.828770       19.089380 -0.372503     18.294094   \n3       -0.327026  18.835567       19.083031 -0.316199     18.292542   \n4       -0.471150  18.857033       19.082525 -0.332272     18.291428   \n...           ...        ...             ...       ...           ...   \n1330811 -2.152128  30.721298       45.274497  0.791801     41.934347   \n1330812 -2.258684  30.721306       45.239017  0.778900     41.868923   \n1330813 -2.130312  30.721312       45.211576  0.804914     41.804819   \n1330814 -2.268498  30.721316       45.193508  0.763091     41.762220   \n1330815 -2.100158  30.721319       45.132307  0.807309     41.734763   \n\n         motor_speed       i_d       i_q         pm  stator_yoke    ambient  \\\n0           0.002866  0.004419  0.000328  24.554214    18.316547  19.850691   \n1           0.000257  0.000606 -0.000785  24.538078    18.314955  19.850672   \n2           0.002355  0.001290  0.000386  24.544693    18.326307  19.850657   \n3           0.006105  0.000026  0.002046  24.554018    18.330833  19.850647   \n4           0.003133 -0.064317  0.037184  24.565397    18.326662  19.850639   \n...              ...       ...       ...        ...          ...        ...   \n1330811     0.000380 -2.000169  1.097528  62.147780    38.653720  23.989078   \n1330812     0.002985 -2.000499  1.097569  62.142646    38.656328  23.970700   \n1330813     0.002301 -1.999268  1.098765  62.138387    38.650923  23.977234   \n1330814     0.005662 -2.000999  1.095696  62.133422    38.655686  24.001421   \n1330815     0.004395 -2.000792  1.096487  62.131429    38.660370  24.027522   \n\n               torque  profile_id  manufacturer categ_coolant categ_voltage  \n0        1.871008e-01          17             4           Low           Low  \n1        2.454175e-01          17             1           Low           Low  \n2        1.766153e-01          17             1           Low           Low  \n3        2.383027e-01          17             4           Low           Low  \n4        2.081967e-01          17             1           Low           Low  \n...               ...         ...           ...           ...           ...  \n1330811 -8.116730e-60          71             2        Middle           Low  \n1330812 -5.815891e-60          71             4        Middle           Low  \n1330813 -4.167268e-60          71             2        Middle           Low  \n1330814 -2.985978e-60          71             1        Middle           Low  \n1330815 -2.139547e-60          71             1        Middle           Low  \n\n[1330816 rows x 16 columns]",
      "text/html": "<div>\n<style scoped>\n    .dataframe tbody tr th:only-of-type {\n        vertical-align: middle;\n    }\n\n    .dataframe tbody tr th {\n        vertical-align: top;\n    }\n\n    .dataframe thead th {\n        text-align: right;\n    }\n</style>\n<table border=\"1\" class=\"dataframe\">\n  <thead>\n    <tr style=\"text-align: right;\">\n      <th></th>\n      <th>u_q</th>\n      <th>coolant</th>\n      <th>stator_winding</th>\n      <th>u_d</th>\n      <th>stator_tooth</th>\n      <th>motor_speed</th>\n      <th>i_d</th>\n      <th>i_q</th>\n      <th>pm</th>\n      <th>stator_yoke</th>\n      <th>ambient</th>\n      <th>torque</th>\n      <th>profile_id</th>\n      <th>manufacturer</th>\n      <th>categ_coolant</th>\n      <th>categ_voltage</th>\n    </tr>\n  </thead>\n  <tbody>\n    <tr>\n      <th>0</th>\n      <td>-0.450682</td>\n      <td>18.805172</td>\n      <td>19.086670</td>\n      <td>-0.350055</td>\n      <td>18.293219</td>\n      <td>0.002866</td>\n      <td>0.004419</td>\n      <td>0.000328</td>\n      <td>24.554214</td>\n      <td>18.316547</td>\n      <td>19.850691</td>\n      <td>1.871008e-01</td>\n      <td>17</td>\n      <td>4</td>\n      <td>Low</td>\n      <td>Low</td>\n    </tr>\n    <tr>\n      <th>1</th>\n      <td>-0.325737</td>\n      <td>18.818571</td>\n      <td>19.092390</td>\n      <td>-0.305803</td>\n      <td>18.294807</td>\n      <td>0.000257</td>\n      <td>0.000606</td>\n      <td>-0.000785</td>\n      <td>24.538078</td>\n      <td>18.314955</td>\n      <td>19.850672</td>\n      <td>2.454175e-01</td>\n      <td>17</td>\n      <td>1</td>\n      <td>Low</td>\n      <td>Low</td>\n    </tr>\n    <tr>\n      <th>2</th>\n      <td>-0.440864</td>\n      <td>18.828770</td>\n      <td>19.089380</td>\n      <td>-0.372503</td>\n      <td>18.294094</td>\n      <td>0.002355</td>\n      <td>0.001290</td>\n      <td>0.000386</td>\n      <td>24.544693</td>\n      <td>18.326307</td>\n      <td>19.850657</td>\n      <td>1.766153e-01</td>\n      <td>17</td>\n      <td>1</td>\n      <td>Low</td>\n      <td>Low</td>\n    </tr>\n    <tr>\n      <th>3</th>\n      <td>-0.327026</td>\n      <td>18.835567</td>\n      <td>19.083031</td>\n      <td>-0.316199</td>\n      <td>18.292542</td>\n      <td>0.006105</td>\n      <td>0.000026</td>\n      <td>0.002046</td>\n      <td>24.554018</td>\n      <td>18.330833</td>\n      <td>19.850647</td>\n      <td>2.383027e-01</td>\n      <td>17</td>\n      <td>4</td>\n      <td>Low</td>\n      <td>Low</td>\n    </tr>\n    <tr>\n      <th>4</th>\n      <td>-0.471150</td>\n      <td>18.857033</td>\n      <td>19.082525</td>\n      <td>-0.332272</td>\n      <td>18.291428</td>\n      <td>0.003133</td>\n      <td>-0.064317</td>\n      <td>0.037184</td>\n      <td>24.565397</td>\n      <td>18.326662</td>\n      <td>19.850639</td>\n      <td>2.081967e-01</td>\n      <td>17</td>\n      <td>1</td>\n      <td>Low</td>\n      <td>Low</td>\n    </tr>\n    <tr>\n      <th>...</th>\n      <td>...</td>\n      <td>...</td>\n      <td>...</td>\n      <td>...</td>\n      <td>...</td>\n      <td>...</td>\n      <td>...</td>\n      <td>...</td>\n      <td>...</td>\n      <td>...</td>\n      <td>...</td>\n      <td>...</td>\n      <td>...</td>\n      <td>...</td>\n      <td>...</td>\n      <td>...</td>\n    </tr>\n    <tr>\n      <th>1330811</th>\n      <td>-2.152128</td>\n      <td>30.721298</td>\n      <td>45.274497</td>\n      <td>0.791801</td>\n      <td>41.934347</td>\n      <td>0.000380</td>\n      <td>-2.000169</td>\n      <td>1.097528</td>\n      <td>62.147780</td>\n      <td>38.653720</td>\n      <td>23.989078</td>\n      <td>-8.116730e-60</td>\n      <td>71</td>\n      <td>2</td>\n      <td>Middle</td>\n      <td>Low</td>\n    </tr>\n    <tr>\n      <th>1330812</th>\n      <td>-2.258684</td>\n      <td>30.721306</td>\n      <td>45.239017</td>\n      <td>0.778900</td>\n      <td>41.868923</td>\n      <td>0.002985</td>\n      <td>-2.000499</td>\n      <td>1.097569</td>\n      <td>62.142646</td>\n      <td>38.656328</td>\n      <td>23.970700</td>\n      <td>-5.815891e-60</td>\n      <td>71</td>\n      <td>4</td>\n      <td>Middle</td>\n      <td>Low</td>\n    </tr>\n    <tr>\n      <th>1330813</th>\n      <td>-2.130312</td>\n      <td>30.721312</td>\n      <td>45.211576</td>\n      <td>0.804914</td>\n      <td>41.804819</td>\n      <td>0.002301</td>\n      <td>-1.999268</td>\n      <td>1.098765</td>\n      <td>62.138387</td>\n      <td>38.650923</td>\n      <td>23.977234</td>\n      <td>-4.167268e-60</td>\n      <td>71</td>\n      <td>2</td>\n      <td>Middle</td>\n      <td>Low</td>\n    </tr>\n    <tr>\n      <th>1330814</th>\n      <td>-2.268498</td>\n      <td>30.721316</td>\n      <td>45.193508</td>\n      <td>0.763091</td>\n      <td>41.762220</td>\n      <td>0.005662</td>\n      <td>-2.000999</td>\n      <td>1.095696</td>\n      <td>62.133422</td>\n      <td>38.655686</td>\n      <td>24.001421</td>\n      <td>-2.985978e-60</td>\n      <td>71</td>\n      <td>1</td>\n      <td>Middle</td>\n      <td>Low</td>\n    </tr>\n    <tr>\n      <th>1330815</th>\n      <td>-2.100158</td>\n      <td>30.721319</td>\n      <td>45.132307</td>\n      <td>0.807309</td>\n      <td>41.734763</td>\n      <td>0.004395</td>\n      <td>-2.000792</td>\n      <td>1.096487</td>\n      <td>62.131429</td>\n      <td>38.660370</td>\n      <td>24.027522</td>\n      <td>-2.139547e-60</td>\n      <td>71</td>\n      <td>1</td>\n      <td>Middle</td>\n      <td>Low</td>\n    </tr>\n  </tbody>\n</table>\n<p>1330816 rows × 16 columns</p>\n</div>"
     },
     "execution_count": 83,
     "metadata": {},
     "output_type": "execute_result"
    }
   ],
   "source": [
    "def f(row):\n",
    " if row['u_q'] < 45:\n",
    "    val = 'Low'\n",
    " elif (row['u_q'] >45) & (row['u_q'] < 70):\n",
    "    val = 'Middle'\n",
    " elif (row['u_q'] >70) & (row['u_q'] < 90):\n",
    "    val = 'Highty'\n",
    " else:\n",
    "    val = 'Very Highty'\n",
    " return val\n",
    "\n",
    "my_df['categ_voltage'] = my_df.apply (f, axis=1)\n",
    "my_df"
   ],
   "metadata": {
    "collapsed": false
   }
  },
  {
   "cell_type": "markdown",
   "source": [
    "### 3.Выбрать в качестве переменной - непрерывное значение (выберем колонку coolant) ###"
   ],
   "metadata": {
    "collapsed": false
   }
  },
  {
   "cell_type": "markdown",
   "source": [
    "#### 2.1 Построить диаграмму плотности распределения (гистограмму). Как вы думаете, на какой вид распределения похож график? ####"
   ],
   "metadata": {
    "collapsed": false
   }
  },
  {
   "cell_type": "code",
   "execution_count": 84,
   "outputs": [
    {
     "data": {
      "text/plain": "<Figure size 640x480 with 1 Axes>",
      "image/png": "[encoded data removed]"
     },
     "metadata": {},
     "output_type": "display_data"
    }
   ],
   "source": [
    "import matplotlib.pyplot as plt\n",
    "x = my_df[\"coolant\"]\n",
    "plt.hist (x)\n",
    "plt.grid(which=\"major\")\n",
    "plt.minorticks_on()"
   ],
   "metadata": {
    "collapsed": false
   }
  },
  {
   "cell_type": "markdown",
   "source": [
    "**Вид распределения вероятности - Геометрический**\n",
    "\n",
    "**По результатам строения гистограмы можно сделать вывод, что у 45% записей датчика, температура охлаждающей жидкости, не привышала 20 градусов цельсия. Лишь примерно у 100000 записей отмечается температура выше 80 градусов цельсия.**"
   ],
   "metadata": {
    "collapsed": false
   }
  },
  {
   "cell_type": "markdown",
   "source": [
    "#### 2.2 Построить boxplot ####"
   ],
   "metadata": {
    "collapsed": false
   }
  },
  {
   "cell_type": "code",
   "execution_count": 85,
   "outputs": [
    {
     "data": {
      "text/plain": "<Figure size 640x480 with 1 Axes>",
      "image/png": "[encoded data removed]"
     },
     "metadata": {},
     "output_type": "display_data"
    }
   ],
   "source": [
    "plt.boxplot(x, showmeans=True)\n",
    "plt.minorticks_on()\n",
    "plt.show()"
   ],
   "metadata": {
    "collapsed": false
   }
  },
  {
   "cell_type": "markdown",
   "source": [
    "**По результатам строения боксплота можно отметить, что медиана равна 25 градусам цельсия. Это означает, что у 50% записей датчика температура охлаждающей жидкости не превышала 25 градусов цельсия (ориентируясь по нижнему квартелю, в этих 50% средняя температура варьировалась в районе 20 градусов).**\n",
    "\n",
    " **В остальных 50%, температура была выше 25 градусов (ориентируясь по верхнему квартелю, в данных 50% средняя температура составляла 50 градусов цельсия)**\n",
    "\n",
    "**Таким образом результаты полученные от гистограмы и боксплота совпадают.**"
   ],
   "metadata": {
    "collapsed": false
   }
  },
  {
   "cell_type": "markdown",
   "source": [
    "### 3.Выбрать несколько непрерывных переменных и провести визуализацию отношений между переменными ###"
   ],
   "metadata": {
    "collapsed": false
   }
  },
  {
   "cell_type": "markdown",
   "source": [
    "#### В качестве данных возьмем колонку motor_speed (обороты двигателя) и u_q (статорное напряжение) ####\n",
    "\n",
    "#### 3.1 Построить диаграмму рассеивания, гистограмму (относительно двух переменных), матрицу корреляций ####\n",
    "\n",
    "#### Диаграмма рассеивания: ####"
   ],
   "metadata": {
    "collapsed": false
   }
  },
  {
   "cell_type": "code",
   "execution_count": 86,
   "outputs": [
    {
     "data": {
      "text/plain": "<matplotlib.collections.PathCollection at 0x7fc0b4f0e310>"
     },
     "execution_count": 86,
     "metadata": {},
     "output_type": "execute_result"
    },
    {
     "data": {
      "text/plain": "<Figure size 640x480 with 1 Axes>",
      "image/png": "[encoded data removed]"
     },
     "metadata": {},
     "output_type": "display_data"
    }
   ],
   "source": [
    "x = my_df[\"u_q\"]\n",
    "y = my_df[\"motor_speed\"]\n",
    "plt.scatter(x, y, s=3, c='green')"
   ],
   "metadata": {
    "collapsed": false
   }
  },
  {
   "cell_type": "markdown",
   "source": [
    "#### Гистограмма (относительно двух переменных): ####"
   ],
   "metadata": {
    "collapsed": false
   }
  },
  {
   "cell_type": "code",
   "execution_count": null,
   "outputs": [],
   "source": [
    "# так как датасет большой, отсортируем значения\n",
    "new_dfGist = my_df[['motor_speed','u_q']].copy ()\n",
    "sorted_frame = new_dfGist.loc[(new_dfGist['motor_speed'] < 4000) & (new_dfGist['u_q'] < 80) & (new_dfGist['motor_speed'] > 0)].iloc[1:6000]\n",
    "figure, ax = plt.subplots()\n",
    "\n",
    "ax.bar(sorted_frame.motor_speed, sorted_frame.u_q, width=50)\n",
    "ax.grid(which=\"major\")\n",
    "ax.minorticks_on()\n",
    "figure.set_figwidth(10)    #  ширина Figure\n",
    "figure.set_figheight(6)"
   ],
   "metadata": {
    "collapsed": false,
    "pycharm": {
     "is_executing": true
    }
   }
  },
  {
   "cell_type": "markdown",
   "source": [
    "### Матрица корреляции: ###"
   ],
   "metadata": {
    "collapsed": false
   }
  },
  {
   "cell_type": "code",
   "execution_count": null,
   "outputs": [],
   "source": [
    "new_df = my_df[['u_q','motor_speed']]. copy ()\n",
    "corr = new_df.corr()\n",
    "corr.style.background_gradient(cmap='coolwarm')"
   ],
   "metadata": {
    "collapsed": false,
    "pycharm": {
     "is_executing": true
    }
   }
  },
  {
   "cell_type": "markdown",
   "source": [
    "**По результатам полученным от гистограммы, диограммы и матрицы кореляции можно сказать, что с увеличением статорного напряжения (u_q), будет увеличиваться и количество оборотов двигателя.(motor_speed).**"
   ],
   "metadata": {
    "collapsed": false
   }
  },
  {
   "cell_type": "markdown",
   "source": [
    "### 4. Выбрать несколько переменных, X - категориальное, Y - непрерывное ###\n",
    "\n",
    "#### В качестве категриальной переменной рассмотрим столбец categ_coolant (степень нагрева охлаждающей жидкости), в качестве непрерывной - pm (температура магнитов).\n",
    "\n",
    "#### 4.1 Построить гистограмму Y относительно переменной X: ####"
   ],
   "metadata": {
    "collapsed": false
   }
  },
  {
   "cell_type": "markdown",
   "source": [],
   "metadata": {
    "collapsed": false
   }
  },
  {
   "cell_type": "code",
   "execution_count": null,
   "outputs": [],
   "source": [
    "# основной фрейм слишком большой, возьмем по 500 записей каждой категории нагрева охлаждающей жидкости\n",
    "\n",
    "new_dfGistKat = my_df[['categ_coolant', 'pm']].copy ()\n",
    "\n",
    "sorted_frame = pd.DataFrame()\n",
    "\n",
    "sorted_frame = sorted_frame.append(new_dfGistKat[(new_dfGistKat.categ_coolant == \"Low\")].iloc[1:500])\n",
    "sorted_frame = sorted_frame.append(new_dfGistKat[(new_dfGistKat.categ_coolant == \"Middle\")].iloc[1:500])\n",
    "sorted_frame = sorted_frame.append(new_dfGistKat[(new_dfGistKat.categ_coolant == \"Highty\")].iloc[1:500])\n",
    "\n",
    "\n",
    "# построим гистаграму\n",
    "figure, ax = plt.subplots()\n",
    "\n",
    "ax.bar(sorted_frame[\"pm\"], sorted_frame[\"categ_coolant\"], width=30)\n",
    "ax.grid(which=\"major\")\n",
    "ax.minorticks_on()\n",
    "figure.set_figwidth(10)\n",
    "figure.set_figheight(6)"
   ],
   "metadata": {
    "collapsed": false,
    "pycharm": {
     "is_executing": true
    }
   }
  },
  {
   "cell_type": "markdown",
   "source": [
    "**По результатам строения гистограмы можно сделать вывод, что от нагрева охлаждающей жидкости, растет и нагрев магнитов электродвигателя.**\n",
    "**Степень нагрева охлаждающей жидкости -Low -> температура магнитов не превышает 54 градусов цельсия.**\n",
    "**Степень нагрева охлаждающей жидкости -Middle -> температура магнитов не превышает 70 градусов цельсия.**\n",
    "**Степень нагрева охлаждающей жидкости -Highty -> температура магнитов превышает 70 градусов цельсия.**\n",
    "\n",
    "**Низкую температуру магнитнов и охлаждающей жидкости имеют 50% записей датчика**"
   ],
   "metadata": {
    "collapsed": false
   }
  },
  {
   "cell_type": "markdown",
   "source": [
    "### 4.2 Построить диаграмму размаха (boxplot) относительно переменной X: ###"
   ],
   "metadata": {
    "collapsed": false
   }
  },
  {
   "cell_type": "code",
   "execution_count": null,
   "outputs": [],
   "source": [
    "plt.boxplot(sorted_frame[\"pm\"], showmeans=True)\n",
    "plt.minorticks_on()\n",
    "plt.show()"
   ],
   "metadata": {
    "collapsed": false,
    "pycharm": {
     "is_executing": true
    }
   }
  },
  {
   "cell_type": "markdown",
   "source": [
    "**По результатам строения боксплота можно отметить, что медиана равна 70 градусам цельсия. Это означает, что у 50% записей датчика температура магнитов двигателя не превышала 70 градусов цельсия (ориентируясь по нижнему квартелю, у этих 50% средняя температура варьировалась в районе 36 градусов).**\n",
    "\n",
    " **В остальных 50% температура была выше 70 градусов (ориентируясь по верхнему квартелю, в данных 50% средняя температура составляла 86 градусов цельсия)**"
   ],
   "metadata": {
    "collapsed": false
   }
  },
  {
   "cell_type": "markdown",
   "source": [
    "### 4.3 Построить столбчатую диаграмму относительно переменной X ###"
   ],
   "metadata": {
    "collapsed": false
   }
  },
  {
   "cell_type": "code",
   "execution_count": null,
   "outputs": [],
   "source": [
    "x = sorted_frame[\"pm\"]\n",
    "plt.hist (x, rwidth=0.8)\n",
    "plt.grid(which=\"major\")\n",
    "plt.minorticks_on()"
   ],
   "metadata": {
    "collapsed": false,
    "pycharm": {
     "is_executing": true
    }
   }
  },
  {
   "cell_type": "markdown",
   "source": [
    "**По результатам полученным от гистограммы, боксплота и диаграммы, можно сделать вывод, что нагрев магнитов связан с нагревом охлаждающей жидкости. Из половины записей датчика, нагрев магнитов не превышал 70 градусов цельсия.**"
   ],
   "metadata": {
    "collapsed": false
   }
  },
  {
   "cell_type": "markdown",
   "source": [
    "### 5. Дополнительно проведите исследование отношений между переменными на свой выбор, объясните полученный результат. ###\n",
    "\n",
    "#### Проведем исследование отношения - категории статорного напряжения(categ_voltage) к статорному напряжению(u_q) ##"
   ],
   "metadata": {
    "collapsed": false
   }
  },
  {
   "cell_type": "code",
   "execution_count": null,
   "outputs": [],
   "source": [
    "new_dfGistKat = my_df[['categ_voltage', 'u_q']].copy ()\n",
    "\n",
    "sorted_frame = pd.DataFrame()\n",
    "\n",
    "sorted_frame = sorted_frame.append(new_dfGistKat[(new_dfGistKat.categ_voltage == \"Low\")].iloc[1:500])\n",
    "sorted_frame = sorted_frame.append(new_dfGistKat[(new_dfGistKat.categ_voltage == \"Middle\")].iloc[1:500])\n",
    "sorted_frame = sorted_frame.append(new_dfGistKat[(new_dfGistKat.categ_voltage == \"Highty\")].iloc[1:500])\n",
    "sorted_frame = sorted_frame.append(new_dfGistKat[(new_dfGistKat.categ_voltage == \"Very Highty\")].iloc[1:500])\n",
    "\n",
    "# построим гистаграму\n",
    "figure, ax = plt.subplots()\n",
    "\n",
    "ax.bar(sorted_frame[\"u_q\"],sorted_frame[\"categ_voltage\"], width=30)\n",
    "ax.grid(which=\"major\")\n",
    "ax.minorticks_on()\n",
    "figure.set_figwidth(10)\n",
    "figure.set_figheight(6)"
   ],
   "metadata": {
    "collapsed": false,
    "pycharm": {
     "is_executing": true
    }
   }
  },
  {
   "cell_type": "markdown",
   "source": [
    "**По результатам строения гистограмы можно сделать вывод, что примерно в 30% записях датчика напряжение не поднималось выше 25В, примерно у 50% записей напряжение не превышает 70В.**\n"
   ],
   "metadata": {
    "collapsed": false
   }
  },
  {
   "cell_type": "code",
   "execution_count": null,
   "outputs": [],
   "source": [
    "plt.boxplot(sorted_frame[\"u_q\"], showmeans=True)\n",
    "plt.minorticks_on()\n",
    "plt.show()"
   ],
   "metadata": {
    "collapsed": false,
    "pycharm": {
     "is_executing": true
    }
   }
  },
  {
   "cell_type": "markdown",
   "source": [
    "**По результатам строения боксплота можно отметить, что медиана равна 75В. Это означает, что у 50% записей датчика напряжение не подымалось выше 75В (ориентируясь по нижнему квартелю, у этих 50% среднее значение напряжения варьировалось в районе 42В).**\n",
    "\n",
    "**В остальных 50%, напряжение выше 75В (ориентируясь по верхнему квартелю, в данных 50% среднее напряжение составляло 90В)**\n",
    "\n",
    "**По результатам полученным от гистограммы и боксплота, можно сделать вывод, что половина записей датчика включало напряжение ниже 75В. По категориальной таблице вольтажа - 75В относится к нормальному напряжению.**"
   ],
   "metadata": {
    "collapsed": false
   }
  }
 ],
 "metadata": {
  "kernelspec": {
   "display_name": "Python 3",
   "language": "python",
   "name": "python3"
  },
  "language_info": {
   "codemirror_mode": {
    "name": "ipython",
    "version": 2
   },
   "file_extension": ".py",
   "mimetype": "text/x-python",
   "name": "python",
   "nbconvert_exporter": "python",
   "pygments_lexer": "ipython2",
   "version": "2.7.6"
  }
 },
 "nbformat": 4,
 "nbformat_minor": 0
}
