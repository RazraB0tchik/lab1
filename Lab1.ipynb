{
 "cells": [
  {
   "cell_type": "markdown",
   "source": [
    "### Открыть набор с помощью pandas ###"
   ],
   "metadata": {
    "collapsed": false
   }
  },
  {
   "cell_type": "code",
   "execution_count": 1,
   "outputs": [],
   "source": [
    "import pandas as pd\n",
    "import numpy as np\n",
    "my_df = pd.read_csv('/home/makar/Документы/dataset/Job_Placement_Data.csv')\n"
   ],
   "metadata": {
    "collapsed": false
   }
  },
  {
   "cell_type": "markdown",
   "source": [
    "### Вывести техническую информацию о датасете ###\n",
    "\n",
    "#### 2.1 Описать типы переменных в наборе (какие являются непрерывные, категориальные, номинальные, ...): ####"
   ],
   "metadata": {
    "collapsed": false
   }
  },
  {
   "cell_type": "code",
   "execution_count": 2,
   "outputs": [
    {
     "data": {
      "text/plain": "<bound method DataFrame.info of     gender  ssc_percentage ssc_board  hsc_percentage hsc_board hsc_subject  \\\n0        M           67.00    Others           91.00    Others    Commerce   \n1        M           79.33   Central           78.33    Others     Science   \n2        M           65.00   Central           68.00   Central        Arts   \n3        M           56.00   Central           52.00   Central     Science   \n4        M           85.80   Central           73.60   Central    Commerce   \n..     ...             ...       ...             ...       ...         ...   \n210      M           80.60    Others           82.00    Others    Commerce   \n211      M           58.00    Others           60.00    Others     Science   \n212      M           67.00    Others           67.00    Others    Commerce   \n213      F           74.00    Others           66.00    Others    Commerce   \n214      M           62.00   Central           58.00    Others     Science   \n\n     degree_percentage undergrad_degree work_experience  emp_test_percentage  \\\n0                58.00         Sci&Tech              No                 55.0   \n1                77.48         Sci&Tech             Yes                 86.5   \n2                64.00        Comm&Mgmt              No                 75.0   \n3                52.00         Sci&Tech              No                 66.0   \n4                73.30        Comm&Mgmt              No                 96.8   \n..                 ...              ...             ...                  ...   \n210              77.60        Comm&Mgmt              No                 91.0   \n211              72.00         Sci&Tech              No                 74.0   \n212              73.00        Comm&Mgmt             Yes                 59.0   \n213              58.00        Comm&Mgmt              No                 70.0   \n214              53.00        Comm&Mgmt              No                 89.0   \n\n    specialisation  mba_percent      status  \n0           Mkt&HR        58.80      Placed  \n1          Mkt&Fin        66.28      Placed  \n2          Mkt&Fin        57.80      Placed  \n3           Mkt&HR        59.43  Not Placed  \n4          Mkt&Fin        55.50      Placed  \n..             ...          ...         ...  \n210        Mkt&Fin        74.49      Placed  \n211        Mkt&Fin        53.62      Placed  \n212        Mkt&Fin        69.72      Placed  \n213         Mkt&HR        60.23      Placed  \n214         Mkt&HR        60.22  Not Placed  \n\n[215 rows x 13 columns]>"
     },
     "execution_count": 2,
     "metadata": {},
     "output_type": "execute_result"
    }
   ],
   "source": [
    "my_df.info"
   ],
   "metadata": {
    "collapsed": false
   }
  },
  {
   "cell_type": "code",
   "execution_count": 3,
   "outputs": [
    {
     "data": {
      "text/plain": "gender                  object\nssc_percentage         float64\nssc_board               object\nhsc_percentage         float64\nhsc_board               object\nhsc_subject             object\ndegree_percentage      float64\nundergrad_degree        object\nwork_experience         object\nemp_test_percentage    float64\nspecialisation          object\nmba_percent            float64\nstatus                  object\ndtype: object"
     },
     "execution_count": 3,
     "metadata": {},
     "output_type": "execute_result"
    }
   ],
   "source": [
    "my_df.dtypes"
   ],
   "metadata": {
    "collapsed": false
   }
  },
  {
   "cell_type": "markdown",
   "source": [
    "1. gender : Пол кандидата - **Категориальные данные (Номинальные)**\n",
    "2. ssc_percentage : Процент сдачи экзаменов в старших классах средней школы (10-й класс) - **Числовые данные (Дискретные)**\n",
    "3. ssc_board : Совет по образованию для экзаменов ssc - **Категориальные данные (Номинальные)**\n",
    "4. hsc_percentage : Процент сдачи экзаменов в старших классах средней школы (12-й класс) - **Числовые данные (Дискретные)**\n",
    "5. hsc_borad : Совет по образованию для экзаменов на hsc  - **Категориальные данные (Номинальные)**\n",
    "6. hsc_subject : Предмет изучения для hsc - **Категориальные данные (Номинальные)**\n",
    "7. degree_percentage : Процент оценок в степени бакалавра - **Числовые данные (Дискретные)**\n",
    "8. undergrad_degree : Специальность бакалавриата - **Категориальные данные (Номинальные)**\n",
    "9. work_experience : Прошлый опыт работы  - **Категориальные данные (Номинальные)**\n",
    "10. emp_test_percentage : Процент теста на пригодность - **Числовые данные (Дискретные)**\n",
    "11. specialization : Специальность последипломного образования - (специализация MBA) - **Категориальные данные (Номинальные)**\n",
    "12. mba_percent : Процент оценок в степени MBA (TARGET) - **Числовые данные (Дискретные)**\n",
    "13. status : Статус размещения . Размещено / Не размещено - **Категориальные данные (Номинальные)**"
   ],
   "metadata": {
    "collapsed": false
   }
  },
  {
   "cell_type": "markdown",
   "source": [
    "#### 2.2 Вывести статистические характеристики набора: ####"
   ],
   "metadata": {
    "collapsed": false
   }
  },
  {
   "cell_type": "code",
   "execution_count": 4,
   "outputs": [
    {
     "data": {
      "text/plain": "       ssc_percentage  hsc_percentage  degree_percentage  emp_test_percentage  \\\ncount      215.000000      215.000000         215.000000           215.000000   \nmean        67.303395       66.333163          66.370186            72.100558   \nstd         10.827205       10.897509           7.358743            13.275956   \nmin         40.890000       37.000000          50.000000            50.000000   \n25%         60.600000       60.900000          61.000000            60.000000   \n50%         67.000000       65.000000          66.000000            71.000000   \n75%         75.700000       73.000000          72.000000            83.500000   \nmax         89.400000       97.700000          91.000000            98.000000   \n\n       mba_percent  \ncount   215.000000  \nmean     62.278186  \nstd       5.833385  \nmin      51.210000  \n25%      57.945000  \n50%      62.000000  \n75%      66.255000  \nmax      77.890000  ",
      "text/html": "<div>\n<style scoped>\n    .dataframe tbody tr th:only-of-type {\n        vertical-align: middle;\n    }\n\n    .dataframe tbody tr th {\n        vertical-align: top;\n    }\n\n    .dataframe thead th {\n        text-align: right;\n    }\n</style>\n<table border=\"1\" class=\"dataframe\">\n  <thead>\n    <tr style=\"text-align: right;\">\n      <th></th>\n      <th>ssc_percentage</th>\n      <th>hsc_percentage</th>\n      <th>degree_percentage</th>\n      <th>emp_test_percentage</th>\n      <th>mba_percent</th>\n    </tr>\n  </thead>\n  <tbody>\n    <tr>\n      <th>count</th>\n      <td>215.000000</td>\n      <td>215.000000</td>\n      <td>215.000000</td>\n      <td>215.000000</td>\n      <td>215.000000</td>\n    </tr>\n    <tr>\n      <th>mean</th>\n      <td>67.303395</td>\n      <td>66.333163</td>\n      <td>66.370186</td>\n      <td>72.100558</td>\n      <td>62.278186</td>\n    </tr>\n    <tr>\n      <th>std</th>\n      <td>10.827205</td>\n      <td>10.897509</td>\n      <td>7.358743</td>\n      <td>13.275956</td>\n      <td>5.833385</td>\n    </tr>\n    <tr>\n      <th>min</th>\n      <td>40.890000</td>\n      <td>37.000000</td>\n      <td>50.000000</td>\n      <td>50.000000</td>\n      <td>51.210000</td>\n    </tr>\n    <tr>\n      <th>25%</th>\n      <td>60.600000</td>\n      <td>60.900000</td>\n      <td>61.000000</td>\n      <td>60.000000</td>\n      <td>57.945000</td>\n    </tr>\n    <tr>\n      <th>50%</th>\n      <td>67.000000</td>\n      <td>65.000000</td>\n      <td>66.000000</td>\n      <td>71.000000</td>\n      <td>62.000000</td>\n    </tr>\n    <tr>\n      <th>75%</th>\n      <td>75.700000</td>\n      <td>73.000000</td>\n      <td>72.000000</td>\n      <td>83.500000</td>\n      <td>66.255000</td>\n    </tr>\n    <tr>\n      <th>max</th>\n      <td>89.400000</td>\n      <td>97.700000</td>\n      <td>91.000000</td>\n      <td>98.000000</td>\n      <td>77.890000</td>\n    </tr>\n  </tbody>\n</table>\n</div>"
     },
     "execution_count": 4,
     "metadata": {},
     "output_type": "execute_result"
    }
   ],
   "source": [
    "my_df.describe()"
   ],
   "metadata": {
    "collapsed": false
   }
  },
  {
   "cell_type": "markdown",
   "source": [
    "### Имеются ли пустые значения полей ###\n"
   ],
   "metadata": {
    "collapsed": false
   }
  },
  {
   "cell_type": "markdown",
   "source": [
    "### 3. Уметь показать и объяснить содержимое набора данных: ###\n",
    "#### 3.3 Имеются ли пустые значения полей ####"
   ],
   "metadata": {
    "collapsed": false
   }
  },
  {
   "cell_type": "markdown",
   "source": [],
   "metadata": {
    "collapsed": false
   }
  },
  {
   "cell_type": "code",
   "execution_count": 5,
   "outputs": [
    {
     "name": "stdout",
     "output_type": "stream",
     "text": [
      "gender\n",
      "False\n",
      "ssc_percentage\n",
      "False\n",
      "ssc_board\n",
      "False\n",
      "hsc_percentage\n",
      "False\n",
      "hsc_board\n",
      "False\n",
      "hsc_subject\n",
      "False\n",
      "degree_percentage\n",
      "False\n",
      "undergrad_degree\n",
      "False\n",
      "work_experience\n",
      "False\n",
      "emp_test_percentage\n",
      "False\n",
      "specialisation\n",
      "False\n",
      "mba_percent\n",
      "False\n",
      "status\n",
      "False\n"
     ]
    }
   ],
   "source": [
    "\n",
    "for column in my_df.columns.tolist():\n",
    "    print(column)\n",
    "    print(pd.isnull(column))\n",
    "\n",
    "\n",
    "##FALSE - пустые элементы отсутствуют, TRUE - есть пустые элементы"
   ],
   "metadata": {
    "collapsed": false
   }
  },
  {
   "cell_type": "markdown",
   "source": [
    "#### 3.4 Статистические характеристики числовых полей (мин, макс, среднее,медиана). ####"
   ],
   "metadata": {
    "collapsed": false
   }
  },
  {
   "cell_type": "code",
   "execution_count": 6,
   "outputs": [
    {
     "data": {
      "text/plain": "40.89"
     },
     "execution_count": 6,
     "metadata": {},
     "output_type": "execute_result"
    }
   ],
   "source": [
    "my_df[\"ssc_percentage\"].min()"
   ],
   "metadata": {
    "collapsed": false
   }
  },
  {
   "cell_type": "code",
   "execution_count": 7,
   "outputs": [
    {
     "data": {
      "text/plain": "89.4"
     },
     "execution_count": 7,
     "metadata": {},
     "output_type": "execute_result"
    }
   ],
   "source": [
    "my_df[\"ssc_percentage\"].max()"
   ],
   "metadata": {
    "collapsed": false
   }
  },
  {
   "cell_type": "code",
   "execution_count": 8,
   "outputs": [
    {
     "data": {
      "text/plain": "67.30339534883721"
     },
     "execution_count": 8,
     "metadata": {},
     "output_type": "execute_result"
    }
   ],
   "source": [
    "my_df[\"ssc_percentage\"].mean()"
   ],
   "metadata": {
    "collapsed": false
   }
  },
  {
   "cell_type": "code",
   "execution_count": 9,
   "outputs": [
    {
     "data": {
      "text/plain": "ssc_percentage    67.0\nhsc_percentage    65.0\ndtype: float64"
     },
     "execution_count": 9,
     "metadata": {},
     "output_type": "execute_result"
    }
   ],
   "source": [
    "my_df[['ssc_percentage', 'hsc_percentage']]. median()"
   ],
   "metadata": {
    "collapsed": false
   }
  },
  {
   "cell_type": "markdown",
   "source": [
    "### 4 Выполнить срезы набора данных: по именам полей, по индексам ###\n",
    "\n",
    "#### 4.1. По именам полей (Выведу все строки начиная со столбца **gender** и заканчивая столбом **degree_percentage**) ####"
   ],
   "metadata": {
    "collapsed": false
   }
  },
  {
   "cell_type": "code",
   "execution_count": 10,
   "outputs": [
    {
     "data": {
      "text/plain": "   gender  ssc_percentage ssc_board  hsc_percentage hsc_board hsc_subject  \\\n5       M            55.0    Others            49.8    Others     Science   \n6       F            46.0    Others            49.2    Others    Commerce   \n7       M            82.0   Central            64.0   Central     Science   \n8       M            73.0   Central            79.0   Central    Commerce   \n9       M            58.0   Central            70.0   Central    Commerce   \n10      M            58.0   Central            61.0   Central    Commerce   \n11      M            69.6   Central            68.4   Central    Commerce   \n12      F            47.0   Central            55.0    Others     Science   \n13      F            77.0   Central            87.0   Central    Commerce   \n14      M            62.0   Central            47.0   Central    Commerce   \n15      F            65.0   Central            75.0   Central    Commerce   \n\n    degree_percentage  \n5               67.25  \n6               79.00  \n7               66.00  \n8               72.00  \n9               61.00  \n10              60.00  \n11              78.30  \n12              65.00  \n13              59.00  \n14              50.00  \n15              69.00  ",
      "text/html": "<div>\n<style scoped>\n    .dataframe tbody tr th:only-of-type {\n        vertical-align: middle;\n    }\n\n    .dataframe tbody tr th {\n        vertical-align: top;\n    }\n\n    .dataframe thead th {\n        text-align: right;\n    }\n</style>\n<table border=\"1\" class=\"dataframe\">\n  <thead>\n    <tr style=\"text-align: right;\">\n      <th></th>\n      <th>gender</th>\n      <th>ssc_percentage</th>\n      <th>ssc_board</th>\n      <th>hsc_percentage</th>\n      <th>hsc_board</th>\n      <th>hsc_subject</th>\n      <th>degree_percentage</th>\n    </tr>\n  </thead>\n  <tbody>\n    <tr>\n      <th>5</th>\n      <td>M</td>\n      <td>55.0</td>\n      <td>Others</td>\n      <td>49.8</td>\n      <td>Others</td>\n      <td>Science</td>\n      <td>67.25</td>\n    </tr>\n    <tr>\n      <th>6</th>\n      <td>F</td>\n      <td>46.0</td>\n      <td>Others</td>\n      <td>49.2</td>\n      <td>Others</td>\n      <td>Commerce</td>\n      <td>79.00</td>\n    </tr>\n    <tr>\n      <th>7</th>\n      <td>M</td>\n      <td>82.0</td>\n      <td>Central</td>\n      <td>64.0</td>\n      <td>Central</td>\n      <td>Science</td>\n      <td>66.00</td>\n    </tr>\n    <tr>\n      <th>8</th>\n      <td>M</td>\n      <td>73.0</td>\n      <td>Central</td>\n      <td>79.0</td>\n      <td>Central</td>\n      <td>Commerce</td>\n      <td>72.00</td>\n    </tr>\n    <tr>\n      <th>9</th>\n      <td>M</td>\n      <td>58.0</td>\n      <td>Central</td>\n      <td>70.0</td>\n      <td>Central</td>\n      <td>Commerce</td>\n      <td>61.00</td>\n    </tr>\n    <tr>\n      <th>10</th>\n      <td>M</td>\n      <td>58.0</td>\n      <td>Central</td>\n      <td>61.0</td>\n      <td>Central</td>\n      <td>Commerce</td>\n      <td>60.00</td>\n    </tr>\n    <tr>\n      <th>11</th>\n      <td>M</td>\n      <td>69.6</td>\n      <td>Central</td>\n      <td>68.4</td>\n      <td>Central</td>\n      <td>Commerce</td>\n      <td>78.30</td>\n    </tr>\n    <tr>\n      <th>12</th>\n      <td>F</td>\n      <td>47.0</td>\n      <td>Central</td>\n      <td>55.0</td>\n      <td>Others</td>\n      <td>Science</td>\n      <td>65.00</td>\n    </tr>\n    <tr>\n      <th>13</th>\n      <td>F</td>\n      <td>77.0</td>\n      <td>Central</td>\n      <td>87.0</td>\n      <td>Central</td>\n      <td>Commerce</td>\n      <td>59.00</td>\n    </tr>\n    <tr>\n      <th>14</th>\n      <td>M</td>\n      <td>62.0</td>\n      <td>Central</td>\n      <td>47.0</td>\n      <td>Central</td>\n      <td>Commerce</td>\n      <td>50.00</td>\n    </tr>\n    <tr>\n      <th>15</th>\n      <td>F</td>\n      <td>65.0</td>\n      <td>Central</td>\n      <td>75.0</td>\n      <td>Central</td>\n      <td>Commerce</td>\n      <td>69.00</td>\n    </tr>\n  </tbody>\n</table>\n</div>"
     },
     "execution_count": 10,
     "metadata": {},
     "output_type": "execute_result"
    }
   ],
   "source": [
    "my_df.loc[5:15, \"gender\":\"degree_percentage\"]"
   ],
   "metadata": {
    "collapsed": false
   }
  },
  {
   "cell_type": "markdown",
   "source": [
    "#### 4.2. По индексам полей (Выведу первые 20 строк для каждой колонки) ####"
   ],
   "metadata": {
    "collapsed": false
   }
  },
  {
   "cell_type": "code",
   "execution_count": 11,
   "outputs": [
    {
     "data": {
      "text/plain": "    ssc_percentage ssc_board  hsc_percentage\n3             56.0   Central            52.0\n4             85.8   Central            73.6\n5             55.0    Others            49.8\n6             46.0    Others            49.2\n7             82.0   Central            64.0\n8             73.0   Central            79.0\n9             58.0   Central            70.0\n10            58.0   Central            61.0\n11            69.6   Central            68.4\n12            47.0   Central            55.0\n13            77.0   Central            87.0\n14            62.0   Central            47.0\n15            65.0   Central            75.0\n16            63.0   Central            66.2\n17            55.0   Central            67.0\n18            63.0   Central            66.0\n19            60.0    Others            67.0",
      "text/html": "<div>\n<style scoped>\n    .dataframe tbody tr th:only-of-type {\n        vertical-align: middle;\n    }\n\n    .dataframe tbody tr th {\n        vertical-align: top;\n    }\n\n    .dataframe thead th {\n        text-align: right;\n    }\n</style>\n<table border=\"1\" class=\"dataframe\">\n  <thead>\n    <tr style=\"text-align: right;\">\n      <th></th>\n      <th>ssc_percentage</th>\n      <th>ssc_board</th>\n      <th>hsc_percentage</th>\n    </tr>\n  </thead>\n  <tbody>\n    <tr>\n      <th>3</th>\n      <td>56.0</td>\n      <td>Central</td>\n      <td>52.0</td>\n    </tr>\n    <tr>\n      <th>4</th>\n      <td>85.8</td>\n      <td>Central</td>\n      <td>73.6</td>\n    </tr>\n    <tr>\n      <th>5</th>\n      <td>55.0</td>\n      <td>Others</td>\n      <td>49.8</td>\n    </tr>\n    <tr>\n      <th>6</th>\n      <td>46.0</td>\n      <td>Others</td>\n      <td>49.2</td>\n    </tr>\n    <tr>\n      <th>7</th>\n      <td>82.0</td>\n      <td>Central</td>\n      <td>64.0</td>\n    </tr>\n    <tr>\n      <th>8</th>\n      <td>73.0</td>\n      <td>Central</td>\n      <td>79.0</td>\n    </tr>\n    <tr>\n      <th>9</th>\n      <td>58.0</td>\n      <td>Central</td>\n      <td>70.0</td>\n    </tr>\n    <tr>\n      <th>10</th>\n      <td>58.0</td>\n      <td>Central</td>\n      <td>61.0</td>\n    </tr>\n    <tr>\n      <th>11</th>\n      <td>69.6</td>\n      <td>Central</td>\n      <td>68.4</td>\n    </tr>\n    <tr>\n      <th>12</th>\n      <td>47.0</td>\n      <td>Central</td>\n      <td>55.0</td>\n    </tr>\n    <tr>\n      <th>13</th>\n      <td>77.0</td>\n      <td>Central</td>\n      <td>87.0</td>\n    </tr>\n    <tr>\n      <th>14</th>\n      <td>62.0</td>\n      <td>Central</td>\n      <td>47.0</td>\n    </tr>\n    <tr>\n      <th>15</th>\n      <td>65.0</td>\n      <td>Central</td>\n      <td>75.0</td>\n    </tr>\n    <tr>\n      <th>16</th>\n      <td>63.0</td>\n      <td>Central</td>\n      <td>66.2</td>\n    </tr>\n    <tr>\n      <th>17</th>\n      <td>55.0</td>\n      <td>Central</td>\n      <td>67.0</td>\n    </tr>\n    <tr>\n      <th>18</th>\n      <td>63.0</td>\n      <td>Central</td>\n      <td>66.0</td>\n    </tr>\n    <tr>\n      <th>19</th>\n      <td>60.0</td>\n      <td>Others</td>\n      <td>67.0</td>\n    </tr>\n  </tbody>\n</table>\n</div>"
     },
     "execution_count": 11,
     "metadata": {},
     "output_type": "execute_result"
    }
   ],
   "source": [
    "my_df.iloc[3:20, 1:4]"
   ],
   "metadata": {
    "collapsed": false
   }
  },
  {
   "cell_type": "markdown",
   "source": [
    "### 5. Выполнить выбороки с фильтрацией по значниям полей (равенство, неравенство, частичный фильтр строк с помощью лямбда-функции), с использованием |, & ###"
   ],
   "metadata": {
    "collapsed": false
   }
  },
  {
   "cell_type": "code",
   "execution_count": 12,
   "outputs": [
    {
     "data": {
      "text/plain": "   gender  ssc_percentage ssc_board  hsc_percentage\n6       F            46.0    Others            49.2\n12      F            47.0   Central            55.0\n18      F            63.0   Central            66.0\n22      F            69.8    Others            60.8\n30      F            64.0   Central            73.5\n32      F            61.0   Central            81.0\n38      F            73.0    Others            58.0",
      "text/html": "<div>\n<style scoped>\n    .dataframe tbody tr th:only-of-type {\n        vertical-align: middle;\n    }\n\n    .dataframe tbody tr th {\n        vertical-align: top;\n    }\n\n    .dataframe thead th {\n        text-align: right;\n    }\n</style>\n<table border=\"1\" class=\"dataframe\">\n  <thead>\n    <tr style=\"text-align: right;\">\n      <th></th>\n      <th>gender</th>\n      <th>ssc_percentage</th>\n      <th>ssc_board</th>\n      <th>hsc_percentage</th>\n    </tr>\n  </thead>\n  <tbody>\n    <tr>\n      <th>6</th>\n      <td>F</td>\n      <td>46.0</td>\n      <td>Others</td>\n      <td>49.2</td>\n    </tr>\n    <tr>\n      <th>12</th>\n      <td>F</td>\n      <td>47.0</td>\n      <td>Central</td>\n      <td>55.0</td>\n    </tr>\n    <tr>\n      <th>18</th>\n      <td>F</td>\n      <td>63.0</td>\n      <td>Central</td>\n      <td>66.0</td>\n    </tr>\n    <tr>\n      <th>22</th>\n      <td>F</td>\n      <td>69.8</td>\n      <td>Others</td>\n      <td>60.8</td>\n    </tr>\n    <tr>\n      <th>30</th>\n      <td>F</td>\n      <td>64.0</td>\n      <td>Central</td>\n      <td>73.5</td>\n    </tr>\n    <tr>\n      <th>32</th>\n      <td>F</td>\n      <td>61.0</td>\n      <td>Central</td>\n      <td>81.0</td>\n    </tr>\n    <tr>\n      <th>38</th>\n      <td>F</td>\n      <td>73.0</td>\n      <td>Others</td>\n      <td>58.0</td>\n    </tr>\n  </tbody>\n</table>\n</div>"
     },
     "execution_count": 12,
     "metadata": {},
     "output_type": "execute_result"
    }
   ],
   "source": [
    "my_df[(my_df.gender == \"F\")].iloc[lambda x: (x.index % 2 == 0) & (x.index < 40) , 0:4]"
   ],
   "metadata": {
    "collapsed": false
   }
  },
  {
   "cell_type": "markdown",
   "source": [
    " #### 5.1 Выполнить сортировку отфильтрованного набора данных ####"
   ],
   "metadata": {
    "collapsed": false
   }
  },
  {
   "cell_type": "code",
   "execution_count": 13,
   "outputs": [
    {
     "data": {
      "text/plain": "   gender  ssc_percentage ssc_board  hsc_percentage\n6       F            46.0    Others            49.2\n12      F            47.0   Central            55.0\n32      F            61.0   Central            81.0\n18      F            63.0   Central            66.0\n30      F            64.0   Central            73.5\n22      F            69.8    Others            60.8\n38      F            73.0    Others            58.0",
      "text/html": "<div>\n<style scoped>\n    .dataframe tbody tr th:only-of-type {\n        vertical-align: middle;\n    }\n\n    .dataframe tbody tr th {\n        vertical-align: top;\n    }\n\n    .dataframe thead th {\n        text-align: right;\n    }\n</style>\n<table border=\"1\" class=\"dataframe\">\n  <thead>\n    <tr style=\"text-align: right;\">\n      <th></th>\n      <th>gender</th>\n      <th>ssc_percentage</th>\n      <th>ssc_board</th>\n      <th>hsc_percentage</th>\n    </tr>\n  </thead>\n  <tbody>\n    <tr>\n      <th>6</th>\n      <td>F</td>\n      <td>46.0</td>\n      <td>Others</td>\n      <td>49.2</td>\n    </tr>\n    <tr>\n      <th>12</th>\n      <td>F</td>\n      <td>47.0</td>\n      <td>Central</td>\n      <td>55.0</td>\n    </tr>\n    <tr>\n      <th>32</th>\n      <td>F</td>\n      <td>61.0</td>\n      <td>Central</td>\n      <td>81.0</td>\n    </tr>\n    <tr>\n      <th>18</th>\n      <td>F</td>\n      <td>63.0</td>\n      <td>Central</td>\n      <td>66.0</td>\n    </tr>\n    <tr>\n      <th>30</th>\n      <td>F</td>\n      <td>64.0</td>\n      <td>Central</td>\n      <td>73.5</td>\n    </tr>\n    <tr>\n      <th>22</th>\n      <td>F</td>\n      <td>69.8</td>\n      <td>Others</td>\n      <td>60.8</td>\n    </tr>\n    <tr>\n      <th>38</th>\n      <td>F</td>\n      <td>73.0</td>\n      <td>Others</td>\n      <td>58.0</td>\n    </tr>\n  </tbody>\n</table>\n</div>"
     },
     "execution_count": 13,
     "metadata": {},
     "output_type": "execute_result"
    }
   ],
   "source": [
    "my_df[(my_df.gender == \"F\")].iloc[lambda x: (x.index % 2 == 0) & (x.index < 40) , 0:4].sort_values(by=[\"ssc_percentage\"], ascending = [True])"
   ],
   "metadata": {
    "collapsed": false
   }
  },
  {
   "cell_type": "markdown",
   "source": [
    "### 6. Выполнить группировку данных по некоторым признакам (на основе предварительного анализа содержимого набора данных) ###"
   ],
   "metadata": {
    "collapsed": false
   }
  },
  {
   "cell_type": "code",
   "execution_count": 14,
   "outputs": [
    {
     "data": {
      "text/plain": "                 ssc_percentage              hsc_percentage               \\\n                           mean  amax   amin           mean  amax   amin   \nundergrad_degree                                                           \nComm&Mgmt             65.955586  87.0  40.89      67.185379  97.0  40.00   \nOthers                64.227273  88.0  49.00      60.181818  86.0  37.00   \nSci&Tech              71.189322  89.4  49.00      65.385593  97.7  42.16   \n\n                 degree_percentage              \n                              mean  amax  amin  \nundergrad_degree                                \nComm&Mgmt                66.203103  85.0  50.0  \nOthers                   60.666364  78.0  52.0  \nSci&Tech                 67.844237  91.0  52.0  ",
      "text/html": "<div>\n<style scoped>\n    .dataframe tbody tr th:only-of-type {\n        vertical-align: middle;\n    }\n\n    .dataframe tbody tr th {\n        vertical-align: top;\n    }\n\n    .dataframe thead tr th {\n        text-align: left;\n    }\n\n    .dataframe thead tr:last-of-type th {\n        text-align: right;\n    }\n</style>\n<table border=\"1\" class=\"dataframe\">\n  <thead>\n    <tr>\n      <th></th>\n      <th colspan=\"3\" halign=\"left\">ssc_percentage</th>\n      <th colspan=\"3\" halign=\"left\">hsc_percentage</th>\n      <th colspan=\"3\" halign=\"left\">degree_percentage</th>\n    </tr>\n    <tr>\n      <th></th>\n      <th>mean</th>\n      <th>amax</th>\n      <th>amin</th>\n      <th>mean</th>\n      <th>amax</th>\n      <th>amin</th>\n      <th>mean</th>\n      <th>amax</th>\n      <th>amin</th>\n    </tr>\n    <tr>\n      <th>undergrad_degree</th>\n      <th></th>\n      <th></th>\n      <th></th>\n      <th></th>\n      <th></th>\n      <th></th>\n      <th></th>\n      <th></th>\n      <th></th>\n    </tr>\n  </thead>\n  <tbody>\n    <tr>\n      <th>Comm&amp;Mgmt</th>\n      <td>65.955586</td>\n      <td>87.0</td>\n      <td>40.89</td>\n      <td>67.185379</td>\n      <td>97.0</td>\n      <td>40.00</td>\n      <td>66.203103</td>\n      <td>85.0</td>\n      <td>50.0</td>\n    </tr>\n    <tr>\n      <th>Others</th>\n      <td>64.227273</td>\n      <td>88.0</td>\n      <td>49.00</td>\n      <td>60.181818</td>\n      <td>86.0</td>\n      <td>37.00</td>\n      <td>60.666364</td>\n      <td>78.0</td>\n      <td>52.0</td>\n    </tr>\n    <tr>\n      <th>Sci&amp;Tech</th>\n      <td>71.189322</td>\n      <td>89.4</td>\n      <td>49.00</td>\n      <td>65.385593</td>\n      <td>97.7</td>\n      <td>42.16</td>\n      <td>67.844237</td>\n      <td>91.0</td>\n      <td>52.0</td>\n    </tr>\n  </tbody>\n</table>\n</div>"
     },
     "execution_count": 14,
     "metadata": {},
     "output_type": "execute_result"
    }
   ],
   "source": [
    "my_df.groupby(\"undergrad_degree\")[['ssc_percentage', 'hsc_percentage', 'degree_percentage']].agg([np.mean, np.max, np.min])"
   ],
   "metadata": {
    "collapsed": false
   }
  },
  {
   "cell_type": "markdown",
   "source": [
    "### 7. Выполнить объединение таблиц с различнымы типами присоединения (если нет возможности выполнить эту операцию с загруженным набором, то допускается создать собственные наборы) ###"
   ],
   "metadata": {
    "collapsed": false
   }
  },
  {
   "cell_type": "code",
   "execution_count": 15,
   "outputs": [],
   "source": [
    "documents_df = pd.DataFrame([[\"Sci&Tech\", \"diplom\"], [\"Comm&Mgmt\", \"certificate\"]], columns=[\"undergrad_degree\", \"document\"])\n",
    "##Создам дополнительный фрейм с документами к каждому направлению вуза"
   ],
   "metadata": {
    "collapsed": false
   }
  },
  {
   "cell_type": "code",
   "execution_count": 16,
   "outputs": [
    {
     "data": {
      "text/plain": "  gender  ssc_percentage ssc_board  hsc_percentage hsc_board hsc_subject  \\\n0      M           67.00    Others           91.00    Others    Commerce   \n1      M           79.33   Central           78.33    Others     Science   \n2      M           65.00   Central           68.00   Central        Arts   \n3      M           56.00   Central           52.00   Central     Science   \n4      M           85.80   Central           73.60   Central    Commerce   \n\n   degree_percentage undergrad_degree work_experience  emp_test_percentage  \\\n0              58.00         Sci&Tech              No                 55.0   \n1              77.48         Sci&Tech             Yes                 86.5   \n2              64.00        Comm&Mgmt              No                 75.0   \n3              52.00         Sci&Tech              No                 66.0   \n4              73.30        Comm&Mgmt              No                 96.8   \n\n  specialisation  mba_percent      status     document  \n0         Mkt&HR        58.80      Placed       diplom  \n1        Mkt&Fin        66.28      Placed       diplom  \n2        Mkt&Fin        57.80      Placed  certificate  \n3         Mkt&HR        59.43  Not Placed       diplom  \n4        Mkt&Fin        55.50      Placed  certificate  ",
      "text/html": "<div>\n<style scoped>\n    .dataframe tbody tr th:only-of-type {\n        vertical-align: middle;\n    }\n\n    .dataframe tbody tr th {\n        vertical-align: top;\n    }\n\n    .dataframe thead th {\n        text-align: right;\n    }\n</style>\n<table border=\"1\" class=\"dataframe\">\n  <thead>\n    <tr style=\"text-align: right;\">\n      <th></th>\n      <th>gender</th>\n      <th>ssc_percentage</th>\n      <th>ssc_board</th>\n      <th>hsc_percentage</th>\n      <th>hsc_board</th>\n      <th>hsc_subject</th>\n      <th>degree_percentage</th>\n      <th>undergrad_degree</th>\n      <th>work_experience</th>\n      <th>emp_test_percentage</th>\n      <th>specialisation</th>\n      <th>mba_percent</th>\n      <th>status</th>\n      <th>document</th>\n    </tr>\n  </thead>\n  <tbody>\n    <tr>\n      <th>0</th>\n      <td>M</td>\n      <td>67.00</td>\n      <td>Others</td>\n      <td>91.00</td>\n      <td>Others</td>\n      <td>Commerce</td>\n      <td>58.00</td>\n      <td>Sci&amp;Tech</td>\n      <td>No</td>\n      <td>55.0</td>\n      <td>Mkt&amp;HR</td>\n      <td>58.80</td>\n      <td>Placed</td>\n      <td>diplom</td>\n    </tr>\n    <tr>\n      <th>1</th>\n      <td>M</td>\n      <td>79.33</td>\n      <td>Central</td>\n      <td>78.33</td>\n      <td>Others</td>\n      <td>Science</td>\n      <td>77.48</td>\n      <td>Sci&amp;Tech</td>\n      <td>Yes</td>\n      <td>86.5</td>\n      <td>Mkt&amp;Fin</td>\n      <td>66.28</td>\n      <td>Placed</td>\n      <td>diplom</td>\n    </tr>\n    <tr>\n      <th>2</th>\n      <td>M</td>\n      <td>65.00</td>\n      <td>Central</td>\n      <td>68.00</td>\n      <td>Central</td>\n      <td>Arts</td>\n      <td>64.00</td>\n      <td>Comm&amp;Mgmt</td>\n      <td>No</td>\n      <td>75.0</td>\n      <td>Mkt&amp;Fin</td>\n      <td>57.80</td>\n      <td>Placed</td>\n      <td>certificate</td>\n    </tr>\n    <tr>\n      <th>3</th>\n      <td>M</td>\n      <td>56.00</td>\n      <td>Central</td>\n      <td>52.00</td>\n      <td>Central</td>\n      <td>Science</td>\n      <td>52.00</td>\n      <td>Sci&amp;Tech</td>\n      <td>No</td>\n      <td>66.0</td>\n      <td>Mkt&amp;HR</td>\n      <td>59.43</td>\n      <td>Not Placed</td>\n      <td>diplom</td>\n    </tr>\n    <tr>\n      <th>4</th>\n      <td>M</td>\n      <td>85.80</td>\n      <td>Central</td>\n      <td>73.60</td>\n      <td>Central</td>\n      <td>Commerce</td>\n      <td>73.30</td>\n      <td>Comm&amp;Mgmt</td>\n      <td>No</td>\n      <td>96.8</td>\n      <td>Mkt&amp;Fin</td>\n      <td>55.50</td>\n      <td>Placed</td>\n      <td>certificate</td>\n    </tr>\n  </tbody>\n</table>\n</div>"
     },
     "execution_count": 16,
     "metadata": {},
     "output_type": "execute_result"
    }
   ],
   "source": [
    "full_df = my_df.merge(documents_df, how=\"left\", left_on=\"undergrad_degree\", right_on=\"undergrad_degree\")\n",
    "\n",
    "full_df.head()"
   ],
   "metadata": {
    "collapsed": false
   }
  },
  {
   "cell_type": "code",
   "execution_count": 16,
   "outputs": [],
   "source": [],
   "metadata": {
    "collapsed": false
   }
  }
 ],
 "metadata": {
  "kernelspec": {
   "display_name": "Python 3",
   "language": "python",
   "name": "python3"
  },
  "language_info": {
   "codemirror_mode": {
    "name": "ipython",
    "version": 2
   },
   "file_extension": ".py",
   "mimetype": "text/x-python",
   "name": "python",
   "nbconvert_exporter": "python",
   "pygments_lexer": "ipython2",
   "version": "2.7.6"
  }
 },
 "nbformat": 4,
 "nbformat_minor": 0
}
